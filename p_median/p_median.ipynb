{
 "cells": [
  {
   "cell_type": "markdown",
   "metadata": {},
   "source": [
    "# The $p$-Median Problem\n",
    "\n",
    "## Summary\n",
    "\n",
    "The goal of the $p$-median problem is to locating $p$ facilities to minimize the demand weighted average distance between demand nodes and the nearest of the selected facilities. Hakimi (1964, 1965) first considered this problem for the design of network switch centers. \n",
    "However, this problem has been used to model a wide range of applications, such as warehouse location, depot location, school districting and sensor placement.\n",
    "\n",
    "\n",
    "## Problem Statement\n",
    "\n",
    "The $p$-median problem can be formulated mathematically as an integer programming problem using the following model.  \n",
    "\n",
    "### Sets\n",
    "\n",
    " $M$ = set of candidate locations  \n",
    " $N$ = set of customer demand nodes\n",
    "\n",
    "### Parameters\n",
    "\n",
    " $p$ = number of facilities to locate  \n",
    " $d_j$ = demand of customer $j$, $\\forall j \\in N$  \n",
    " $c_{ij}$ = unit cost of satisfying customer $j$ from facility $i$, $\\forall i \\in M, \\forall j \\in N$\n",
    " \n",
    "### Variables\n",
    " $x_{ij}$ = fraction of the demand of customer $j$ that is supplied by facility $i$, $\\forall i \\in M, \\forall j \\in N$  \n",
    " $y_i$ = a binary value that is $1$ is a facility is located at location $i$, $\\forall i \\in M$\n",
    "\n",
    "### Objective\n",
    "\n",
    "Minimize the demand-weighted total cost  \n",
    " $\\min \\sum_{i \\in M} \\sum_{j \\in N} d_j c_{ij} x_{ij}$\n",
    "\n",
    "### Constraints\n",
    "\n",
    "All of the demand for customer $j$ must be satisfied  \n",
    " $\\sum_{i \\in M} x_{ij} = 1$, $\\forall j \\in N$\n",
    "\n",
    "Exactly $p$ facilities are located  \n",
    " $\\sum_{i \\in M} y_i = p$\n",
    " \n",
    "Demand nodes can only be assigned to open facilities  \n",
    " $x_{ij} \\leq y_i$, $\\forall i \\in M, \\forall j \\in N$\n",
    " \n",
    "The assignment variables must be non-negative  \n",
    " $x_{ij} \\geq 0$, $\\forall i \\in M, \\forall j \\in N$\n",
    "\n",
    "## Pyomo Formulation\n",
    "\n",
    "The following is an abstract Pyomo model for this problem:"
   ]
  },
  {
   "cell_type": "code",
   "execution_count": 1,
   "metadata": {},
   "outputs": [
    {
     "name": "stderr",
     "output_type": "stream",
     "text": [
      "'cat' �����ڲ����ⲿ���Ҳ���ǿ����еĳ���\n",
      "���������ļ���\n"
     ]
    }
   ],
   "source": [
    "!cat p-median.py"
   ]
  },
  {
   "cell_type": "markdown",
   "metadata": {},
   "source": [
    "****\n",
    "This model is simplified in several respects.  First, the candidate locations and customer locations are treated as numeric ranges.  Second, the demand values, $d_j$ are initialized with a default value of $1$.  Finally, the cost values, $c_{ij}$ are randomly assigned.\n",
    "\n",
    "## Model Data\n",
    "\n",
    "This model is parameterized by three values: the number of facility locations, the number of customers, and the number of facilities.  For example:"
   ]
  },
  {
   "cell_type": "code",
   "execution_count": 2,
   "metadata": {},
   "outputs": [
    {
     "name": "stderr",
     "output_type": "stream",
     "text": [
      "'cat' �����ڲ����ⲿ���Ҳ���ǿ����еĳ���\n",
      "���������ļ���\n"
     ]
    }
   ],
   "source": [
    "!cat p-median.dat"
   ]
  },
  {
   "cell_type": "markdown",
   "metadata": {},
   "source": [
    "****\n",
    "\n",
    "## Solution\n",
    "\n",
    "Pyomo includes a `pyomo` command that automates the construction and optimization of models.  The GLPK solver can be used in this simple example:"
   ]
  },
  {
   "cell_type": "code",
   "execution_count": 3,
   "metadata": {},
   "outputs": [
    {
     "name": "stdout",
     "output_type": "stream",
     "text": [
      "[    0.00] Setting up Pyomo environment\n",
      "[    0.00] Applying Pyomo preprocessing actions\n",
      "[    0.00] Creating model\n",
      "[    0.06] Applying solver\n",
      "[    0.17] Processing results\n",
      "    Number of solutions: 1\n",
      "    Solution Information\n",
      "      Gap: 0.0\n",
      "      Status: optimal\n",
      "      Function Value: 6.431184939357673\n",
      "    Solver results file: results.yml\n",
      "[    0.17] Applying Pyomo postprocessing actions\n",
      "[    0.17] Pyomo Finished\n"
     ]
    },
    {
     "name": "stderr",
     "output_type": "stream",
     "text": [
      "errorcode: 0\n",
      "retval:\n",
      "    instance: <pyomo.core.base.PyomoModel.ConcreteModel object at 0x000002DD29D32F98>\n",
      "    local:\n",
      "        time_initial_import: 0.00447535514831543\n",
      "        usermodel: <module 'p-median' from 'd:\\\\Users\\\\xinweishen\\\\Documents\\\\GitHub\\\\a280558071.github.io\\\\PyomoGallery\\\\p_median\\\\p-median.py'>\n",
      "    options: <pyomo.common.config.ConfigDict object at 0x000002DD2CE13C28>\n",
      "    results: {'Problem': [{'Name': 'unknown', 'Lower bound': 6.43118493935767, 'Upper bound': 6.43118493935767, 'Number of objectives': 1, 'Number of constraints': 68, 'Number of variables': 71, 'Number of nonzeros': 191, 'Sense': 'minimize'}], 'Solver': [{'Status': 'ok', 'Termination condition': 'optimal', 'Statistics': {'Branch and bound': {'Number of bounded subproblems': '1', 'Number of created subproblems': '1'}}, 'Error rc': 0, 'Time': 0.05557703971862793}], 'Solution': [OrderedDict([('number of solutions', 1), ('number of solutions displayed', 1)]), {'Gap': 0.0, 'Status': 'optimal', 'Message': None, 'Problem': {}, 'Objective': {'cost': {'Value': 6.431184939357673}}, 'Variable': {'x[1,1]': {'Value': 0.0}, 'x[1,2]': {'Value': 0.0}, 'x[1,3]': {'Value': 0.0}, 'x[1,4]': {'Value': 0.0}, 'x[1,5]': {'Value': 0.0}, 'x[1,6]': {'Value': 0.0}, 'x[2,1]': {'Value': 0.0}, 'x[2,2]': {'Value': 0.0}, 'x[2,3]': {'Value': 0.0}, 'x[2,4]': {'Value': 0.0}, 'x[2,5]': {'Value': 0.0}, 'x[2,6]': {'Value': 0.0}, 'x[3,1]': {'Value': 0.0}, 'x[3,2]': {'Value': 0.0}, 'x[3,3]': {'Value': 0.0}, 'x[3,4]': {'Value': 1.0}, 'x[3,5]': {'Value': 0.0}, 'x[3,6]': {'Value': 0.0}, 'x[4,1]': {'Value': 0.0}, 'x[4,2]': {'Value': 0.0}, 'x[4,3]': {'Value': 0.0}, 'x[4,4]': {'Value': 0.0}, 'x[4,5]': {'Value': 0.0}, 'x[4,6]': {'Value': 0.0}, 'x[5,1]': {'Value': 0.0}, 'x[5,2]': {'Value': 0.0}, 'x[5,3]': {'Value': 0.0}, 'x[5,4]': {'Value': 0.0}, 'x[5,5]': {'Value': 0.0}, 'x[5,6]': {'Value': 0.0}, 'x[6,1]': {'Value': 1.0}, 'x[6,2]': {'Value': 1.0}, 'x[6,3]': {'Value': 1.0}, 'x[6,4]': {'Value': 0.0}, 'x[6,5]': {'Value': 1.0}, 'x[6,6]': {'Value': 0.0}, 'x[7,1]': {'Value': 0.0}, 'x[7,2]': {'Value': 0.0}, 'x[7,3]': {'Value': 0.0}, 'x[7,4]': {'Value': 0.0}, 'x[7,5]': {'Value': 0.0}, 'x[7,6]': {'Value': 0.0}, 'x[8,1]': {'Value': 0.0}, 'x[8,2]': {'Value': 0.0}, 'x[8,3]': {'Value': 0.0}, 'x[8,4]': {'Value': 0.0}, 'x[8,5]': {'Value': 0.0}, 'x[8,6]': {'Value': 0.0}, 'x[9,1]': {'Value': 0.0}, 'x[9,2]': {'Value': 0.0}, 'x[9,3]': {'Value': 0.0}, 'x[9,4]': {'Value': 0.0}, 'x[9,5]': {'Value': 0.0}, 'x[9,6]': {'Value': 1.0}, 'x[10,1]': {'Value': 0.0}, 'x[10,2]': {'Value': 0.0}, 'x[10,3]': {'Value': 0.0}, 'x[10,4]': {'Value': 0.0}, 'x[10,5]': {'Value': 0.0}, 'x[10,6]': {'Value': 0.0}, 'y[1]': {'Value': 0.0}, 'y[2]': {'Value': 0.0}, 'y[3]': {'Value': 1.0}, 'y[4]': {'Value': 0.0}, 'y[5]': {'Value': 0.0}, 'y[6]': {'Value': 1.0}, 'y[7]': {'Value': 0.0}, 'y[8]': {'Value': 0.0}, 'y[9]': {'Value': 1.0}, 'y[10]': {'Value': 0.0}}, 'Constraint': {}}]}\n"
     ]
    }
   ],
   "source": [
    "!pyomo solve --solver=glpk p-median.py p-median.dat"
   ]
  },
  {
   "cell_type": "markdown",
   "metadata": {},
   "source": [
    "By default, the optimization results are stored in the file `results.yml`:"
   ]
  },
  {
   "cell_type": "code",
   "execution_count": 4,
   "metadata": {},
   "outputs": [
    {
     "name": "stderr",
     "output_type": "stream",
     "text": [
      "'cat' �����ڲ����ⲿ���Ҳ���ǿ����еĳ���\n",
      "���������ļ���\n"
     ]
    }
   ],
   "source": [
    "!cat results.yml"
   ]
  },
  {
   "cell_type": "markdown",
   "metadata": {},
   "source": [
    "****\n",
    "\n",
    "This solution places facilities at locations 3, 6 and 9.  Facility 3 meets the demand of customer 4, facility 6 meets the demand of customers 1, 2, 3 and 5, and facility 9 meets the demand of customer 6."
   ]
  },
  {
   "cell_type": "markdown",
   "metadata": {},
   "source": [
    "## References\n",
    "\n",
    "* S.L. Hakimi (1964) Optimum location of switching centers and the absolute centers and medians of a graph. Oper Res 12:450–459\n",
    "* S.L. Hakimi (1965) Optimum distribution of switching centers in a communication network and some related graph theoretic problems. Oper Res 13:462–475"
   ]
  }
 ],
 "metadata": {
  "kernelspec": {
   "display_name": "Python 3.7.12 ('py37')",
   "language": "python",
   "name": "python3"
  },
  "language_info": {
   "codemirror_mode": {
    "name": "ipython",
    "version": 3
   },
   "file_extension": ".py",
   "mimetype": "text/x-python",
   "name": "python",
   "nbconvert_exporter": "python",
   "pygments_lexer": "ipython3",
   "version": "3.7.12"
  },
  "vscode": {
   "interpreter": {
    "hash": "5ecfabb7306a3c4c2d025a7ad317103a8bab66622e393fe13dbaf2cd206c6383"
   }
  }
 },
 "nbformat": 4,
 "nbformat_minor": 1
}
